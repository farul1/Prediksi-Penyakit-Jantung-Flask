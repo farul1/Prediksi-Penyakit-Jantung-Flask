{
 "cells": [
  {
   "cell_type": "code",
   "execution_count": 24,
   "id": "514daac1",
   "metadata": {},
   "outputs": [],
   "source": [
    "import pandas as pd\n",
    "from sklearn.model_selection import train_test_split\n",
    "from sklearn.ensemble import RandomForestClassifier\n",
    "from sklearn.metrics import confusion_matrix, accuracy_score\n",
    "import seaborn as sns\n",
    "import matplotlib.pyplot as plt\n",
    "import pickle\n",
    "import os"
   ]
  },
  {
   "cell_type": "code",
   "execution_count": 25,
   "id": "8910a784",
   "metadata": {},
   "outputs": [
    {
     "name": "stdout",
     "output_type": "stream",
     "text": [
      "Data setelah diproses dan dibersihkan:\n"
     ]
    },
    {
     "name": "stderr",
     "output_type": "stream",
     "text": [
      "d:\\Datmi\\Flask\\venv\\Lib\\site-packages\\numpy\\lib\\_nanfunctions_impl.py:1214: RuntimeWarning: Mean of empty slice\n",
      "  return np.nanmean(a, axis, out=out, keepdims=keepdims)\n"
     ]
    },
    {
     "data": {
      "text/html": [
       "<div>\n",
       "<style scoped>\n",
       "    .dataframe tbody tr th:only-of-type {\n",
       "        vertical-align: middle;\n",
       "    }\n",
       "\n",
       "    .dataframe tbody tr th {\n",
       "        vertical-align: top;\n",
       "    }\n",
       "\n",
       "    .dataframe thead th {\n",
       "        text-align: right;\n",
       "    }\n",
       "</style>\n",
       "<table border=\"1\" class=\"dataframe\">\n",
       "  <thead>\n",
       "    <tr style=\"text-align: right;\">\n",
       "      <th></th>\n",
       "      <th>age</th>\n",
       "      <th>sex</th>\n",
       "      <th>trestbps</th>\n",
       "      <th>chol</th>\n",
       "      <th>fbs</th>\n",
       "      <th>restecg</th>\n",
       "      <th>thalch</th>\n",
       "      <th>exang</th>\n",
       "      <th>oldpeak</th>\n",
       "      <th>ca</th>\n",
       "      <th>cp_atypical angina</th>\n",
       "      <th>cp_non-anginal</th>\n",
       "      <th>cp_typical angina</th>\n",
       "      <th>slope_flat</th>\n",
       "      <th>slope_upsloping</th>\n",
       "      <th>thal_normal</th>\n",
       "      <th>thal_reversable defect</th>\n",
       "    </tr>\n",
       "  </thead>\n",
       "  <tbody>\n",
       "    <tr>\n",
       "      <th>0</th>\n",
       "      <td>63</td>\n",
       "      <td>1</td>\n",
       "      <td>145.0</td>\n",
       "      <td>233.0</td>\n",
       "      <td>1.0</td>\n",
       "      <td>NaN</td>\n",
       "      <td>150.0</td>\n",
       "      <td>0.0</td>\n",
       "      <td>2.3</td>\n",
       "      <td>0.0</td>\n",
       "      <td>False</td>\n",
       "      <td>False</td>\n",
       "      <td>True</td>\n",
       "      <td>False</td>\n",
       "      <td>False</td>\n",
       "      <td>False</td>\n",
       "      <td>False</td>\n",
       "    </tr>\n",
       "    <tr>\n",
       "      <th>1</th>\n",
       "      <td>67</td>\n",
       "      <td>1</td>\n",
       "      <td>160.0</td>\n",
       "      <td>286.0</td>\n",
       "      <td>0.0</td>\n",
       "      <td>NaN</td>\n",
       "      <td>108.0</td>\n",
       "      <td>1.0</td>\n",
       "      <td>1.5</td>\n",
       "      <td>3.0</td>\n",
       "      <td>False</td>\n",
       "      <td>False</td>\n",
       "      <td>False</td>\n",
       "      <td>True</td>\n",
       "      <td>False</td>\n",
       "      <td>True</td>\n",
       "      <td>False</td>\n",
       "    </tr>\n",
       "    <tr>\n",
       "      <th>2</th>\n",
       "      <td>67</td>\n",
       "      <td>1</td>\n",
       "      <td>120.0</td>\n",
       "      <td>229.0</td>\n",
       "      <td>0.0</td>\n",
       "      <td>NaN</td>\n",
       "      <td>129.0</td>\n",
       "      <td>1.0</td>\n",
       "      <td>2.6</td>\n",
       "      <td>2.0</td>\n",
       "      <td>False</td>\n",
       "      <td>False</td>\n",
       "      <td>False</td>\n",
       "      <td>True</td>\n",
       "      <td>False</td>\n",
       "      <td>False</td>\n",
       "      <td>True</td>\n",
       "    </tr>\n",
       "    <tr>\n",
       "      <th>3</th>\n",
       "      <td>37</td>\n",
       "      <td>1</td>\n",
       "      <td>130.0</td>\n",
       "      <td>250.0</td>\n",
       "      <td>0.0</td>\n",
       "      <td>NaN</td>\n",
       "      <td>187.0</td>\n",
       "      <td>0.0</td>\n",
       "      <td>3.5</td>\n",
       "      <td>0.0</td>\n",
       "      <td>False</td>\n",
       "      <td>True</td>\n",
       "      <td>False</td>\n",
       "      <td>False</td>\n",
       "      <td>False</td>\n",
       "      <td>True</td>\n",
       "      <td>False</td>\n",
       "    </tr>\n",
       "    <tr>\n",
       "      <th>4</th>\n",
       "      <td>41</td>\n",
       "      <td>0</td>\n",
       "      <td>130.0</td>\n",
       "      <td>204.0</td>\n",
       "      <td>0.0</td>\n",
       "      <td>NaN</td>\n",
       "      <td>172.0</td>\n",
       "      <td>0.0</td>\n",
       "      <td>1.4</td>\n",
       "      <td>0.0</td>\n",
       "      <td>True</td>\n",
       "      <td>False</td>\n",
       "      <td>False</td>\n",
       "      <td>False</td>\n",
       "      <td>True</td>\n",
       "      <td>True</td>\n",
       "      <td>False</td>\n",
       "    </tr>\n",
       "  </tbody>\n",
       "</table>\n",
       "</div>"
      ],
      "text/plain": [
       "   age  sex  trestbps   chol  fbs  restecg  thalch  exang  oldpeak   ca  \\\n",
       "0   63    1     145.0  233.0  1.0      NaN   150.0    0.0      2.3  0.0   \n",
       "1   67    1     160.0  286.0  0.0      NaN   108.0    1.0      1.5  3.0   \n",
       "2   67    1     120.0  229.0  0.0      NaN   129.0    1.0      2.6  2.0   \n",
       "3   37    1     130.0  250.0  0.0      NaN   187.0    0.0      3.5  0.0   \n",
       "4   41    0     130.0  204.0  0.0      NaN   172.0    0.0      1.4  0.0   \n",
       "\n",
       "   cp_atypical angina  cp_non-anginal  cp_typical angina  slope_flat  \\\n",
       "0               False           False               True       False   \n",
       "1               False           False              False        True   \n",
       "2               False           False              False        True   \n",
       "3               False            True              False       False   \n",
       "4                True           False              False       False   \n",
       "\n",
       "   slope_upsloping  thal_normal  thal_reversable defect  \n",
       "0            False        False                   False  \n",
       "1            False         True                   False  \n",
       "2            False        False                    True  \n",
       "3            False         True                   False  \n",
       "4             True         True                   False  "
      ]
     },
     "metadata": {},
     "output_type": "display_data"
    },
    {
     "name": "stdout",
     "output_type": "stream",
     "text": [
      "\n",
      "Verifikasi nilai kosong (semua harus False):\n",
      "age                       False\n",
      "sex                       False\n",
      "trestbps                  False\n",
      "chol                      False\n",
      "fbs                       False\n",
      "restecg                    True\n",
      "thalch                    False\n",
      "exang                     False\n",
      "oldpeak                   False\n",
      "ca                        False\n",
      "cp_atypical angina        False\n",
      "cp_non-anginal            False\n",
      "cp_typical angina         False\n",
      "slope_flat                False\n",
      "slope_upsloping           False\n",
      "thal_normal               False\n",
      "thal_reversable defect    False\n",
      "dtype: bool\n"
     ]
    }
   ],
   "source": [
    "# Muat dataset dari file CSV\n",
    "df = pd.read_csv('heart.csv')\n",
    "\n",
    "# --- Langkah Baru: Tangani nilai '?' ---\n",
    "# Ganti semua nilai '?' dengan NaN (Not a Number) agar bisa diproses\n",
    "import numpy as np\n",
    "df = df.replace('?', np.nan)\n",
    "\n",
    "# Hapus kolom yang tidak relevan untuk prediksi\n",
    "df = df.drop(columns=['id', 'dataset'])\n",
    "\n",
    "# --- Proses Konversi Data Teks ke Angka ---\n",
    "\n",
    "# Ubah 'Male'/'Female' menjadi 1/0\n",
    "df['sex'] = df['sex'].map({'Male': 1, 'Female': 0})\n",
    "\n",
    "# Ubah TRUE/FALSE menjadi 1/0\n",
    "df['fbs'] = df['fbs'].map({True: 1, False: 0})\n",
    "df['exang'] = df['exang'].map({True: 1, False: 0})\n",
    "\n",
    "# Ubah kolom kategorikal lain menjadi angka menggunakan one-hot encoding\n",
    "df = pd.get_dummies(df, columns=['cp', 'slope', 'thal'], drop_first=True)\n",
    "\n",
    "# --- Langkah Baru: Konversi semua kolom ke tipe numerik dan isi nilai yang hilang ---\n",
    "# Konversi semua kolom menjadi angka, paksa nilai yang tidak bisa diubah menjadi NaN\n",
    "for col in df.columns:\n",
    "    df[col] = pd.to_numeric(df[col], errors='coerce')\n",
    "\n",
    "# Isi setiap nilai NaN dengan nilai median (nilai tengah) dari kolomnya masing-masing\n",
    "for col in df.columns:\n",
    "    df[col] = df[col].fillna(df[col].median())\n",
    "\n",
    "\n",
    "# Definisikan target (y) dan ubah menjadi biner (0 = tidak sakit, 1 = sakit)\n",
    "y = df['num'].apply(lambda x: 1 if x > 0 else 0)\n",
    "\n",
    "# Definisikan fitur (X) dengan membuang kolom target asli\n",
    "X = df.drop('num', axis=1)\n",
    "\n",
    "# Tampilkan informasi untuk verifikasi bahwa tidak ada lagi nilai null\n",
    "print(\"Data setelah diproses dan dibersihkan:\")\n",
    "display(X.head())\n",
    "print(\"\\nVerifikasi nilai kosong (semua harus False):\")\n",
    "print(X.isnull().any())"
   ]
  },
  {
   "cell_type": "code",
   "execution_count": 26,
   "id": "44c33f36",
   "metadata": {},
   "outputs": [
    {
     "name": "stdout",
     "output_type": "stream",
     "text": [
      "Ukuran data setelah dibagi:\n",
      "X_train shape: (736, 17)\n",
      "X_test shape: (184, 17)\n"
     ]
    }
   ],
   "source": [
    "# Bagi data menjadi 80% untuk latih dan 20% untuk uji\n",
    "X_train, X_test, y_train, y_test = train_test_split(X, y, test_size=0.2, random_state=42)\n",
    "\n",
    "print(\"Ukuran data setelah dibagi:\")\n",
    "print(\"X_train shape:\", X_train.shape)\n",
    "print(\"X_test shape:\", X_test.shape)"
   ]
  },
  {
   "cell_type": "code",
   "execution_count": 27,
   "id": "7700d13a",
   "metadata": {},
   "outputs": [
    {
     "name": "stdout",
     "output_type": "stream",
     "text": [
      "Model berhasil dilatih!\n"
     ]
    }
   ],
   "source": [
    "# Inisialisasi dan latih model RandomForestClassifier\n",
    "model = RandomForestClassifier(n_estimators=100, random_state=42, max_depth=5)\n",
    "model.fit(X_train, y_train)\n",
    "\n",
    "print(\"Model berhasil dilatih!\")"
   ]
  },
  {
   "cell_type": "code",
   "execution_count": 28,
   "id": "07caac11",
   "metadata": {},
   "outputs": [
    {
     "name": "stdout",
     "output_type": "stream",
     "text": [
      "Akurasi Model: 86.96%\n",
      "\n",
      "Gambar confusion matrix berhasil disimpan ke static/images/confusion_matrix.png\n"
     ]
    },
    {
     "data": {
      "image/png": "[encoded data removed]",
      "text/plain": [
       "<Figure size 800x600 with 2 Axes>"
      ]
     },
     "metadata": {},
     "output_type": "display_data"
    }
   ],
   "source": [
    "# Lakukan prediksi pada data uji\n",
    "y_pred = model.predict(X_test)\n",
    "\n",
    "# Hitung akurasi model\n",
    "accuracy = accuracy_score(y_test, y_pred)\n",
    "print(f\"Akurasi Model: {accuracy * 100:.2f}%\")\n",
    "\n",
    "# Buat confusion matrix untuk visualisasi\n",
    "cm = confusion_matrix(y_test, y_pred)\n",
    "plt.figure(figsize=(8, 6))\n",
    "sns.heatmap(cm, annot=True, fmt='d', cmap='Blues', xticklabels=['Rendah', 'Tinggi'], yticklabels=['Rendah', 'Tinggi'])\n",
    "plt.xlabel('Prediksi Risiko')\n",
    "plt.ylabel('Risiko Aktual')\n",
    "plt.title('Confusion Matrix')\n",
    "\n",
    "# Pastikan folder 'static/images' ada\n",
    "if not os.path.exists('../static/images'):\n",
    "    os.makedirs('../static/images')\n",
    "\n",
    "# Simpan gambar ke folder static agar bisa diakses oleh Flask\n",
    "plt.savefig('../static/images/confusion_matrix.png')\n",
    "print(\"\\nGambar confusion matrix berhasil disimpan ke static/images/confusion_matrix.png\")\n",
    "plt.show()"
   ]
  },
  {
   "cell_type": "code",
   "execution_count": 30,
   "id": "9acf80ca",
   "metadata": {},
   "outputs": [
    {
     "name": "stdout",
     "output_type": "stream",
     "text": [
      "Model dan daftar kolom berhasil disimpan di folder 'save_model/'\n"
     ]
    }
   ],
   "source": [
    "# Pastikan folder 'save_model' ada di dalam direktori saat ini\n",
    "if not os.path.exists('save_model'):\n",
    "    os.makedirs('save_model')\n",
    "\n",
    "# Simpan model yang sudah dilatih\n",
    "pickle.dump(model, open('save_model/heart_disease_model.pkl', 'wb'))\n",
    "\n",
    "# Simpan juga daftar kolom yang digunakan saat training\n",
    "# Ini SANGAT PENTING untuk aplikasi Flask agar tidak ada error\n",
    "pickle.dump(X.columns, open('save_model/model_columns.pkl', 'wb'))\n",
    "\n",
    "print(\"Model dan daftar kolom berhasil disimpan di folder 'save_model/'\")"
   ]
  }
 ],
 "metadata": {
  "kernelspec": {
   "display_name": "venv",
   "language": "python",
   "name": "python3"
  },
  "language_info": {
   "codemirror_mode": {
    "name": "ipython",
    "version": 3
   },
   "file_extension": ".py",
   "mimetype": "text/x-python",
   "name": "python",
   "nbconvert_exporter": "python",
   "pygments_lexer": "ipython3",
   "version": "3.11.1"
  }
 },
 "nbformat": 4,
 "nbformat_minor": 5
}
